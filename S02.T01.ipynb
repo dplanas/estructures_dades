{
 "cells": [
  {
   "cell_type": "markdown",
   "id": "fdb0a3ee",
   "metadata": {},
   "source": [
    "![Images](Images/ITAcademy.png)\n",
    "# DATA SCIENCE: S02.T01\n",
    "#### Created by: Dani Planas Montserrat\n"
   ]
  },
  {
   "cell_type": "code",
   "execution_count": 76,
   "id": "90529884",
   "metadata": {},
   "outputs": [],
   "source": [
    "##########################################################################\n",
    "##           DATA SCIENCE: S02.T01: Nivell 1 Exercici 1                 ##\n",
    "##########################################################################\n",
    "# Exercici 1: Crea una llista que agrupi els mesos de l’any en trimestres (\n",
    "# 1T: Gener, Febrer i Març, 2T: Abril, Maig, Juny...), és a dir, una llista\n",
    "# amb 4 llistes dins.\n",
    "\n",
    "## create Variables\n",
    "myList1 = [[\"Gener\",\"Febrer\",\"Març\"], [\"Abril\",\"Marig\",\"Juny\"], [\"Juliol\",\"Agost\",\"Setembre\"],[\"Octubre\",\"Novembre\",\"Desembre\"]]                      #create Lists\n"
   ]
  },
  {
   "cell_type": "code",
   "execution_count": 77,
   "id": "364e044b",
   "metadata": {
    "code_folding": []
   },
   "outputs": [
    {
     "name": "stdout",
     "output_type": "stream",
     "text": [
      "RESULTATS EXERCICI 2\n",
      "********************\n",
      "Febrer\n",
      "['Gener', 'Febrer', 'Març']\n",
      "Setembre Octubre\n"
     ]
    }
   ],
   "source": [
    "##########################################################################\n",
    "##           DATA SCIENCE: S02.T01: Nivell 1 Exercici 2                 ##\n",
    "##########################################################################\n",
    "# # Exercici 2: Crea un codi que et permeti accedir a:\n",
    "#    1-El segon mes del primer trimestre\n",
    "#    2-Els mesos del primer trimestre\n",
    "#    3-Setembre i octubre\n",
    "\n",
    "## Print results\n",
    "print (\"RESULTATS EXERCICI 2\")\n",
    "print (\"********************\")\n",
    "print (myList1[0][1])                               #1\n",
    "print (myList1[0])                                  #2\n",
    "print ((myList1[2][2]) + \" \" + (myList1[3][0]))     #3\n"
   ]
  },
  {
   "cell_type": "code",
   "execution_count": 75,
   "id": "a75fd4e5",
   "metadata": {},
   "outputs": [
    {
     "name": "stdout",
     "output_type": "stream",
     "text": [
      "RESULTATS EXERCICI 3\n",
      "********************\n",
      "El Total de números de la llista és: 10\n",
      "El número 3 està: 1 vegada/es.\n",
      "El números 3 i 4 estan: 2 vegada/es.\n",
      "El número més gran és: 10\n",
      "[0, 1, 2]\n",
      "El Rang de la Llista és:  0, 10\n"
     ]
    }
   ],
   "source": [
    "##########################################################################\n",
    "##           DATA SCIENCE: S02.T01: Nivell 1 Exercici 3                 ##\n",
    "##########################################################################\n",
    "# # Exercici 3: Crea una llista amb nombres desordenats i respon a les següents preguntes:\n",
    "#    1-Quants números hi ha?\n",
    "#    2-Quantes vegades apareix el número 3\n",
    "#    3-Quantes vegades apareixen els nombres 3 i 4?\n",
    "#    4-Quin és el número més gran?\n",
    "#    5-Quins són els 3 números més petits?\n",
    "#    6-Quin és el rang d’aquesta llista?\n",
    "\n",
    "## create Variables\n",
    "myList2 = [4,10,2,7,6,9,1,0,8,3]              #create a List\n",
    "num, num_max = 0, 0                           #variables to integers\n",
    "min_Range, max_Range = 0, 0                   #variables to integers\n",
    "\n",
    "\n",
    "print (\"RESULTATS EXERCICI 3\")\n",
    "print (\"********************\")\n",
    "## Print results (1,2,3)\n",
    "print (\"El Total de números de la llista és: \" + str(len(myList2)))\n",
    "print (\"El número 3 està: \" + str(myList2.count(3)) + \" vegada/es.\")\n",
    "print (\"El números 3 i 4 estan: \" + str(myList2.count(3)+myList2.count(4)) + \" vegada/es.\")\n",
    "\n",
    "#Calculation max. number in List\n",
    "for num in myList2:\n",
    "    if (num > num_max):\n",
    "        num_max=num\n",
    " #Print result (4)       \n",
    "print (\"El número més gran és: \" + str(num_max))\n",
    "\n",
    "#Calculation 3 min. number in List\n",
    "myList2.sort()\n",
    " #Print result (5) \n",
    "print (myList2[0:3])\n",
    "\n",
    "#Calculation 3 min. number in List\n",
    "min_Range = min(myList2)\n",
    "max_Range = max(myList2)\n",
    " #Print result (6) \n",
    "print (f'El Rang de la Llista és:  {min_Range}, {max_Range}')\n"
   ]
  },
  {
   "cell_type": "code",
   "execution_count": 83,
   "id": "1613c40b",
   "metadata": {},
   "outputs": [
    {
     "name": "stdout",
     "output_type": "stream",
     "text": [
      "RESULTATS EXERCICI 4\n",
      "********************\n",
      "Llista de la compra:  {'Pomes': {'Qty': 5, '€': 0.42}, 'Peres': {'Qty': 3, '€': 0.66}, 'Llimones': {'Qty': 6, '€': 0.11}}\n",
      "El Preu de totes les Peres és:  1.98 €\n",
      "Hem comprat:  14  fruites.\n",
      "La fruita més cara té un preu de:  0.66 €\n"
     ]
    }
   ],
   "source": [
    "##########################################################################\n",
    "##           DATA SCIENCE: S02.T01: Nivell 1 Exercici 4                 ##\n",
    "##########################################################################\n",
    "# # Exercici 4:Crea un diccionari de la següent forma i respon a les preguntes:\n",
    "#   compra = { \"Pomes\" : {\"Qty\": 5, \"€\": 0.42}, \"Peres\" : {\"Qty\": 3, \"€\": 0.66} }\n",
    "#      1-Afegeix alguna fruita més\n",
    "#      2-Quant han costat les peres en total?\n",
    "#      3-Quantes fruites hem comprat en total?\n",
    "#      4-Quina és la fruita més cara?\n",
    "\n",
    "## create Variables\n",
    "compra = { \"Pomes\" : {\"Qty\": 5, \"€\": 0.42}, \"Peres\" : {\"Qty\": 3, \"€\": 0.66} }\n",
    "aux=0\n",
    "priceMax=0\n",
    "\n",
    "print (\"RESULTATS EXERCICI 4\")\n",
    "print (\"********************\")\n",
    "\n",
    " #Print result (1)  \n",
    "compra.update({ \"Llimones\" : {\"Qty\": 6, \"€\": 0.11}})\n",
    "print(\"Llista de la compra: \", compra)\n",
    "\n",
    " #Print result (2)  \n",
    "aux = compra[\"Peres\"][\"€\"]*compra[\"Peres\"][\"Qty\"]\n",
    "print(\"El Preu de totes les Peres és: \" , str(aux), \"€\")\n",
    "\n",
    " #Print result (3)  \n",
    "aux=0\n",
    "for key, items in compra.items():\n",
    "    aux = aux + items[\"Qty\"]\n",
    "print(\"Hem comprat: \" , str(aux), \" fruites.\")\n",
    "\n",
    " #Print result (4) \n",
    "for key, items in compra.items():  \n",
    "    if (items[\"€\"] > priceMax):\n",
    "        priceMax=items[\"€\"]        \n",
    "print (\"La fruita més cara té un preu de: \", priceMax, \"€\")\n",
    "    \n",
    " "
   ]
  },
  {
   "cell_type": "code",
   "execution_count": null,
   "id": "8769ab73",
   "metadata": {},
   "outputs": [],
   "source": []
  },
  {
   "cell_type": "code",
   "execution_count": null,
   "id": "7f7a2fc3",
   "metadata": {},
   "outputs": [],
   "source": []
  }
 ],
 "metadata": {
  "hide_input": false,
  "kernelspec": {
   "display_name": "Python 3 (ipykernel)",
   "language": "python",
   "name": "python3"
  },
  "language_info": {
   "codemirror_mode": {
    "name": "ipython",
    "version": 3
   },
   "file_extension": ".py",
   "mimetype": "text/x-python",
   "name": "python",
   "nbconvert_exporter": "python",
   "pygments_lexer": "ipython3",
   "version": "3.9.7"
  },
  "nbTranslate": {
   "displayLangs": [
    "*"
   ],
   "hotkey": "alt-t",
   "langInMainMenu": true,
   "sourceLang": "en",
   "targetLang": "fr",
   "useGoogleTranslate": true
  },
  "toc": {
   "base_numbering": 1,
   "nav_menu": {},
   "number_sections": true,
   "sideBar": true,
   "skip_h1_title": false,
   "title_cell": "Table of Contents",
   "title_sidebar": "Contents",
   "toc_cell": false,
   "toc_position": {},
   "toc_section_display": true,
   "toc_window_display": false
  },
  "varInspector": {
   "cols": {
    "lenName": 16,
    "lenType": 16,
    "lenVar": 40
   },
   "kernels_config": {
    "python": {
     "delete_cmd_postfix": "",
     "delete_cmd_prefix": "del ",
     "library": "var_list.py",
     "varRefreshCmd": "print(var_dic_list())"
    },
    "r": {
     "delete_cmd_postfix": ") ",
     "delete_cmd_prefix": "rm(",
     "library": "var_list.r",
     "varRefreshCmd": "cat(var_dic_list()) "
    }
   },
   "types_to_exclude": [
    "module",
    "function",
    "builtin_function_or_method",
    "instance",
    "_Feature"
   ],
   "window_display": false
  }
 },
 "nbformat": 4,
 "nbformat_minor": 5
}
